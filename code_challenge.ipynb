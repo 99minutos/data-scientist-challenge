{
  "nbformat": 4,
  "nbformat_minor": 0,
  "metadata": {
    "colab": {
      "name": "Data-Science-Challenge.ipynb",
      "provenance": [],
      "collapsed_sections": []
    },
    "kernelspec": {
      "name": "python3",
      "display_name": "Python 3"
    },
    "language_info": {
      "name": "python"
    }
  },
  "cells": [
    {
      "cell_type": "markdown",
      "metadata": {
        "id": "QBTTkBxHNbrO"
      },
      "source": [
        "#Description\n",
        "\n",
        "In Data Science our main interest to achieve with our data scientists is to be able to classify large sets of data, in addition to predicting important events or special temporalities. That is why in the next challenge we have for you, we are going to provide you with a public data set from which we need to obtain important insights within the business.\n",
        "\n"
      ]
    },
    {
      "cell_type": "markdown",
      "metadata": {
        "id": "z7dtcbiKNEhE"
      },
      "source": [
        "## Prerequisites\n",
        "https://www.yelp.com/dataset/documentation/main"
      ]
    },
    {
      "cell_type": "markdown",
      "metadata": {
        "id": "Y33Rilq5MdXS"
      },
      "source": [
        "#Requirements\n",
        "\n",
        "Through this challenge we hope to be able to make important decisions about restaurant ratings, sentiment analysis about negative comments, and other important correlations.\n",
        "\n",
        "- Segment restaurants by \"good (rating > 4) or bad\" according to their rating.\n",
        "- Geographic clustering of restaurants.\n",
        "- Characterization of the social graph between restaurant reviews of the same cluster.\n",
        "- Sentiment analysis of negative comments about Mexican food restaurants.\n",
        "- Most important reviewers by zone.\n",
        "- Build a storytelling and explain the correlation between: tips-users-restaurants and rating."
      ]
    },
    {
      "cell_type": "markdown",
      "metadata": {
        "id": "Ali_SWjaQF6Y"
      },
      "source": [
        ""
      ]
    },
    {
      "cell_type": "markdown",
      "metadata": {
        "id": "-nFpeBBAQJoQ"
      },
      "source": [
        ""
      ]
    },
    {
      "cell_type": "code",
      "metadata": {
        "id": "-7GL9D4BQJG-"
      },
      "source": [
        ""
      ],
      "execution_count": null,
      "outputs": []
    }
  ]
}